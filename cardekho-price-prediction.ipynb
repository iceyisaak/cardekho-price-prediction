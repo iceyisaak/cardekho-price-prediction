{
 "cells": [
  {
   "cell_type": "markdown",
   "id": "8643597d",
   "metadata": {},
   "source": [
    "# Cardekho Price Prediction"
   ]
  },
  {
   "cell_type": "markdown",
   "id": "4c34f138",
   "metadata": {},
   "source": [
    "###### Dataset: https://www.kaggle.com/datasets/manishkr1754/cardekho-used-car-data/data"
   ]
  },
  {
   "cell_type": "markdown",
   "id": "3e6ef389",
   "metadata": {},
   "source": [
    "The used car market in India is a dynamic and ever-changing landscape. Prices can fluctuate wildly based on a variety of factors including the make and model of the car, its mileage, its condition and the current market conditions. As a result, it can be difficult for sellers to accurately price their cars.\n",
    "\n",
    "This dataset contains information about used cars.\n",
    "This data can be used for a lot of purposes such as Used Car Price Prediction using different Machine Learning Techniques.\n",
    "\n",
    "#### Data Description (Feature Information)\n",
    "\n",
    "- `car_name`: Car's Full name, which includes brand and specific model name.\n",
    "- `brand`: Brand Name of the particular car.\n",
    "- `model`: Exact model name of the car of a particular brand.\n",
    "- `seller_type`: Which Type of seller is selling the used car\n",
    "- `fuel_type`: Fuel used in the used car, which was put up on sale.\n",
    "- `transmission_type`: Transmission used in the used car, which was put on sale.\n",
    "- `vehicle_age`: The count of years since car was bought.\n",
    "- `mileage`: It is the number of kilometer the car runs per litre.\n",
    "- `engine`: It is the engine capacity in cc(cubic centimeters)\n",
    "- `max_power`: Max power it produces in BHP.\n",
    "- `seats`: Total number of seats in car.\n",
    "- `selling_price`: The sale price which was put up on website."
   ]
  },
  {
   "cell_type": "code",
   "execution_count": null,
   "id": "9172fd97",
   "metadata": {},
   "outputs": [],
   "source": [
    "import time\n",
    "start_time = time.time()"
   ]
  },
  {
   "cell_type": "code",
   "execution_count": null,
   "id": "94ab5d7e",
   "metadata": {},
   "outputs": [],
   "source": [
    "import numpy as np\n",
    "import pandas as pd\n",
    "import seaborn as sns\n",
    "import matplotlib.pyplot as plt\n",
    "\n",
    "%matplotlib inline"
   ]
  },
  {
   "cell_type": "code",
   "execution_count": null,
   "id": "4dfc33b3",
   "metadata": {},
   "outputs": [],
   "source": [
    "import warnings\n",
    "warnings.filterwarnings('ignore')"
   ]
  },
  {
   "cell_type": "markdown",
   "id": "2632908d",
   "metadata": {},
   "source": [
    "# Dataset"
   ]
  },
  {
   "cell_type": "code",
   "execution_count": null,
   "id": "6c4c2ac0",
   "metadata": {},
   "outputs": [],
   "source": [
    "df0 = pd.read_csv('cardekho_dataset.csv.zip')\n",
    "df = df0.copy()"
   ]
  },
  {
   "cell_type": "code",
   "execution_count": null,
   "id": "6e3c633d",
   "metadata": {},
   "outputs": [],
   "source": [
    "df.info()"
   ]
  },
  {
   "cell_type": "code",
   "execution_count": null,
   "id": "a8248599",
   "metadata": {},
   "outputs": [],
   "source": [
    "df.head()"
   ]
  },
  {
   "cell_type": "markdown",
   "id": "8fe7b648",
   "metadata": {},
   "source": [
    "# Data Cleaning"
   ]
  },
  {
   "cell_type": "code",
   "execution_count": null,
   "id": "070c80a4",
   "metadata": {},
   "outputs": [],
   "source": [
    "df.isna().sum()"
   ]
  },
  {
   "cell_type": "markdown",
   "id": "fd1bb39d",
   "metadata": {},
   "source": [
    "# Drop Irrelevant Columns"
   ]
  },
  {
   "cell_type": "code",
   "execution_count": null,
   "id": "b79d12d1",
   "metadata": {},
   "outputs": [],
   "source": [
    "df.drop('Unnamed: 0', axis=1, inplace=True)"
   ]
  },
  {
   "cell_type": "code",
   "execution_count": null,
   "id": "ec9ace28",
   "metadata": {},
   "outputs": [],
   "source": [
    "df.columns.tolist()"
   ]
  },
  {
   "cell_type": "markdown",
   "id": "507b3519",
   "metadata": {},
   "source": [
    "## car_name"
   ]
  },
  {
   "cell_type": "code",
   "execution_count": null,
   "id": "82ddbd41",
   "metadata": {},
   "outputs": [],
   "source": [
    "df.drop('car_name', axis=1, inplace=True)"
   ]
  },
  {
   "cell_type": "code",
   "execution_count": null,
   "id": "ef47ebe7",
   "metadata": {},
   "outputs": [],
   "source": [
    "df.columns.tolist()"
   ]
  },
  {
   "cell_type": "markdown",
   "id": "7c0d228c",
   "metadata": {},
   "source": [
    "## brand"
   ]
  },
  {
   "cell_type": "code",
   "execution_count": null,
   "id": "d45ec8cc",
   "metadata": {},
   "outputs": [],
   "source": [
    "df.drop('brand', axis=1, inplace=True)"
   ]
  },
  {
   "cell_type": "code",
   "execution_count": null,
   "id": "6e9d305e",
   "metadata": {},
   "outputs": [],
   "source": [
    "df.columns.tolist()"
   ]
  },
  {
   "cell_type": "markdown",
   "id": "4b7083bd",
   "metadata": {},
   "source": [
    "## model"
   ]
  },
  {
   "cell_type": "code",
   "execution_count": null,
   "id": "de927a93",
   "metadata": {},
   "outputs": [],
   "source": [
    "df['model'].value_counts()"
   ]
  },
  {
   "cell_type": "code",
   "execution_count": null,
   "id": "f7c46307",
   "metadata": {},
   "outputs": [],
   "source": [
    "df['model'].unique()"
   ]
  },
  {
   "cell_type": "markdown",
   "id": "caafa9b1",
   "metadata": {},
   "source": [
    "# vehicle_age"
   ]
  },
  {
   "cell_type": "code",
   "execution_count": null,
   "id": "c58babe2",
   "metadata": {},
   "outputs": [],
   "source": [
    "sns.histplot(data=df, x='vehicle_age', kde=True, bins=30);"
   ]
  },
  {
   "cell_type": "markdown",
   "id": "d91b2eb1",
   "metadata": {},
   "source": [
    "## km_driven"
   ]
  },
  {
   "cell_type": "code",
   "execution_count": null,
   "id": "c3b962fa",
   "metadata": {},
   "outputs": [],
   "source": [
    "sns.histplot(data=df,x='km_driven',kde=True);"
   ]
  },
  {
   "cell_type": "markdown",
   "id": "3c735559",
   "metadata": {},
   "source": [
    "## seller_type"
   ]
  },
  {
   "cell_type": "code",
   "execution_count": null,
   "id": "18ad3135",
   "metadata": {},
   "outputs": [],
   "source": [
    "sns.countplot(data=df,x='seller_type',palette='tab10');"
   ]
  },
  {
   "cell_type": "markdown",
   "id": "76c628b0",
   "metadata": {},
   "source": [
    "## fuel_type"
   ]
  },
  {
   "cell_type": "code",
   "execution_count": null,
   "id": "c862e13b",
   "metadata": {},
   "outputs": [],
   "source": [
    "sns.countplot(data=df,x='fuel_type',palette='tab10');"
   ]
  },
  {
   "cell_type": "markdown",
   "id": "f290592a",
   "metadata": {},
   "source": [
    "## transmission_type"
   ]
  },
  {
   "cell_type": "code",
   "execution_count": null,
   "id": "4641be25",
   "metadata": {},
   "outputs": [],
   "source": [
    "sns.countplot(data=df,x='transmission_type',palette='tab10');"
   ]
  },
  {
   "cell_type": "markdown",
   "id": "6d556927",
   "metadata": {},
   "source": [
    "## mileage"
   ]
  },
  {
   "cell_type": "code",
   "execution_count": null,
   "id": "ed52e4e2",
   "metadata": {},
   "outputs": [],
   "source": [
    "sns.histplot(data=df,x='mileage',kde=True,bins=35);"
   ]
  },
  {
   "cell_type": "markdown",
   "id": "23e925ed",
   "metadata": {},
   "source": [
    "## engine"
   ]
  },
  {
   "cell_type": "code",
   "execution_count": null,
   "id": "7dd8a13b",
   "metadata": {},
   "outputs": [],
   "source": [
    "df['engine'].unique()"
   ]
  },
  {
   "cell_type": "markdown",
   "id": "97ae1032",
   "metadata": {},
   "source": [
    "## max_power"
   ]
  },
  {
   "cell_type": "code",
   "execution_count": null,
   "id": "a7a08f90",
   "metadata": {},
   "outputs": [],
   "source": [
    "sns.histplot(data=df,x='max_power',kde=True);"
   ]
  },
  {
   "cell_type": "markdown",
   "id": "5d8c964b",
   "metadata": {},
   "source": [
    "## seats"
   ]
  },
  {
   "cell_type": "code",
   "execution_count": null,
   "id": "0f9ca1a0",
   "metadata": {},
   "outputs": [],
   "source": [
    "sns.countplot(data=df,x='seats',palette='tab10');"
   ]
  },
  {
   "cell_type": "markdown",
   "id": "3cac216d",
   "metadata": {},
   "source": [
    "## selling_price"
   ]
  },
  {
   "cell_type": "code",
   "execution_count": null,
   "id": "547b8037",
   "metadata": {},
   "outputs": [],
   "source": [
    "sns.histplot(data=df,x='selling_price',kde=True);"
   ]
  },
  {
   "cell_type": "markdown",
   "id": "c820d5fc",
   "metadata": {},
   "source": [
    "---"
   ]
  },
  {
   "cell_type": "markdown",
   "id": "cdf5b9c6",
   "metadata": {},
   "source": [
    "## Feature Engineering"
   ]
  },
  {
   "cell_type": "code",
   "execution_count": null,
   "id": "cb927841",
   "metadata": {},
   "outputs": [],
   "source": [
    "df.head()"
   ]
  },
  {
   "cell_type": "markdown",
   "id": "4b158ec6",
   "metadata": {},
   "source": [
    "### Get Numerical Features"
   ]
  },
  {
   "cell_type": "code",
   "execution_count": null,
   "id": "84414fe5",
   "metadata": {},
   "outputs": [],
   "source": [
    "num_features = [feature for feature in df.columns if df[feature].dtype != 'O' ]\n",
    "print('num_features: ', len(num_features))"
   ]
  },
  {
   "cell_type": "markdown",
   "id": "b4dfa97d",
   "metadata": {},
   "source": [
    "### Get Categorical Features"
   ]
  },
  {
   "cell_type": "code",
   "execution_count": null,
   "id": "045d24e6",
   "metadata": {},
   "outputs": [],
   "source": [
    "cat_features = [feature for feature in df.columns if df[feature].dtype == 'O']\n",
    "print('cat_features: ', len(cat_features))"
   ]
  },
  {
   "cell_type": "markdown",
   "id": "9bf0c852",
   "metadata": {},
   "source": [
    "### Get Discrete Features"
   ]
  },
  {
   "cell_type": "code",
   "execution_count": null,
   "id": "f0846947",
   "metadata": {},
   "outputs": [],
   "source": [
    "discrete_features = [feature for feature in num_features if len(df[feature].unique()) <= 25]\n",
    "print('discrete_features: ', len(discrete_features))"
   ]
  },
  {
   "cell_type": "markdown",
   "id": "ab6b1e54",
   "metadata": {},
   "source": [
    "### Get Continuous Features"
   ]
  },
  {
   "cell_type": "code",
   "execution_count": null,
   "id": "544d27b6",
   "metadata": {},
   "outputs": [],
   "source": [
    "continuous_features = [features for features in num_features if features not in discrete_features]\n",
    "print('continuous_features: ', len(continuous_features))"
   ]
  },
  {
   "cell_type": "markdown",
   "id": "eea5bf0e",
   "metadata": {},
   "source": [
    "## Declare Dependent Feature & Independent Features"
   ]
  },
  {
   "cell_type": "code",
   "execution_count": null,
   "id": "0eb4950d",
   "metadata": {},
   "outputs": [],
   "source": [
    "X = df.drop('selling_price', axis=1)"
   ]
  },
  {
   "cell_type": "code",
   "execution_count": null,
   "id": "cdbf219f",
   "metadata": {},
   "outputs": [],
   "source": [
    "X.head()"
   ]
  },
  {
   "cell_type": "code",
   "execution_count": null,
   "id": "ac063dbf",
   "metadata": {},
   "outputs": [],
   "source": [
    "y = df['selling_price']"
   ]
  },
  {
   "cell_type": "code",
   "execution_count": null,
   "id": "44e6f373",
   "metadata": {},
   "outputs": [],
   "source": [
    "y.head()"
   ]
  },
  {
   "cell_type": "markdown",
   "id": "9191d7db",
   "metadata": {},
   "source": [
    "---"
   ]
  },
  {
   "cell_type": "markdown",
   "id": "37ab7c50",
   "metadata": {},
   "source": [
    "# Train Test Split"
   ]
  },
  {
   "cell_type": "code",
   "execution_count": null,
   "id": "1da791ab",
   "metadata": {},
   "outputs": [],
   "source": [
    "from sklearn.model_selection import train_test_split"
   ]
  },
  {
   "cell_type": "code",
   "execution_count": null,
   "id": "114c19ba",
   "metadata": {},
   "outputs": [],
   "source": [
    "X_train, X_test, y_train, y_test = train_test_split(X,y,test_size=0.2,random_state=42)"
   ]
  },
  {
   "cell_type": "code",
   "execution_count": null,
   "id": "5b88a08c",
   "metadata": {},
   "outputs": [],
   "source": [
    "X_train.shape, X_test.shape"
   ]
  },
  {
   "cell_type": "code",
   "execution_count": null,
   "id": "aa44448d",
   "metadata": {},
   "outputs": [],
   "source": [
    "y_train.shape, y_test.shape"
   ]
  },
  {
   "cell_type": "code",
   "execution_count": null,
   "id": "c88e605d",
   "metadata": {},
   "outputs": [],
   "source": [
    "X_train.head()"
   ]
  },
  {
   "cell_type": "code",
   "execution_count": null,
   "id": "16c16cbc",
   "metadata": {},
   "outputs": [],
   "source": [
    "X_test.head()"
   ]
  },
  {
   "cell_type": "code",
   "execution_count": null,
   "id": "c216e04b",
   "metadata": {},
   "outputs": [],
   "source": [
    "y_train.head()"
   ]
  },
  {
   "cell_type": "code",
   "execution_count": null,
   "id": "6a00fc7f",
   "metadata": {},
   "outputs": [],
   "source": [
    "y_test.head()"
   ]
  },
  {
   "cell_type": "markdown",
   "id": "85e62a8b",
   "metadata": {},
   "source": [
    "## Feature Transformation"
   ]
  },
  {
   "cell_type": "code",
   "execution_count": null,
   "id": "d701a092",
   "metadata": {},
   "outputs": [],
   "source": [
    "num_features = X_train.select_dtypes(exclude='object').columns"
   ]
  },
  {
   "cell_type": "code",
   "execution_count": null,
   "id": "a3d31326",
   "metadata": {},
   "outputs": [],
   "source": [
    "num_features"
   ]
  },
  {
   "cell_type": "code",
   "execution_count": null,
   "id": "55b0d855",
   "metadata": {},
   "outputs": [],
   "source": [
    "oh_cols = ['seller_type','fuel_type','transmission_type']"
   ]
  },
  {
   "cell_type": "code",
   "execution_count": null,
   "id": "899b8970",
   "metadata": {},
   "outputs": [],
   "source": [
    "len(X_train['seller_type'].unique())"
   ]
  },
  {
   "cell_type": "code",
   "execution_count": null,
   "id": "91bd7d2e",
   "metadata": {},
   "outputs": [],
   "source": [
    "len(X_train['fuel_type'].unique())"
   ]
  },
  {
   "cell_type": "code",
   "execution_count": null,
   "id": "173b11f6",
   "metadata": {},
   "outputs": [],
   "source": [
    "len(X_train['transmission_type'].unique())"
   ]
  },
  {
   "cell_type": "markdown",
   "id": "5d8a973d",
   "metadata": {},
   "source": [
    "### Feature Encoding"
   ]
  },
  {
   "cell_type": "code",
   "execution_count": null,
   "id": "5fa8e9e5",
   "metadata": {},
   "outputs": [],
   "source": [
    "from sklearn.preprocessing import TargetEncoder"
   ]
  },
  {
   "cell_type": "code",
   "execution_count": null,
   "id": "62a1c44e",
   "metadata": {},
   "outputs": [],
   "source": [
    "te = TargetEncoder(target_type='auto', smooth='auto', cv=5)"
   ]
  },
  {
   "cell_type": "code",
   "execution_count": null,
   "id": "57abeff8",
   "metadata": {},
   "outputs": [],
   "source": [
    "len(X_train['model'].unique())"
   ]
  },
  {
   "cell_type": "code",
   "execution_count": null,
   "id": "fa2057f0",
   "metadata": {},
   "outputs": [],
   "source": [
    "X_train.head()"
   ]
  },
  {
   "cell_type": "code",
   "execution_count": null,
   "id": "00a2d14f",
   "metadata": {},
   "outputs": [],
   "source": [
    "X_train['model'] = te.fit_transform(X_train[['model']],y_train)"
   ]
  },
  {
   "cell_type": "code",
   "execution_count": null,
   "id": "9bd8f728",
   "metadata": {},
   "outputs": [],
   "source": [
    "X_train.head()"
   ]
  },
  {
   "cell_type": "code",
   "execution_count": null,
   "id": "4320b1bc",
   "metadata": {},
   "outputs": [],
   "source": [
    "X_test.head()"
   ]
  },
  {
   "cell_type": "code",
   "execution_count": null,
   "id": "bed369d3",
   "metadata": {},
   "outputs": [],
   "source": [
    "X_test['model'] = te.transform(X_test[['model']])"
   ]
  },
  {
   "cell_type": "code",
   "execution_count": null,
   "id": "69279475",
   "metadata": {},
   "outputs": [],
   "source": [
    "X_test.head()"
   ]
  },
  {
   "cell_type": "markdown",
   "id": "d19e0ca3",
   "metadata": {},
   "source": [
    "### Feature Scaling"
   ]
  },
  {
   "cell_type": "code",
   "execution_count": null,
   "id": "2afe2605",
   "metadata": {},
   "outputs": [],
   "source": [
    "from sklearn.preprocessing import StandardScaler, OneHotEncoder"
   ]
  },
  {
   "cell_type": "code",
   "execution_count": null,
   "id": "125081e3",
   "metadata": {},
   "outputs": [],
   "source": [
    "from sklearn.compose import ColumnTransformer"
   ]
  },
  {
   "cell_type": "code",
   "execution_count": null,
   "id": "2b1e22a5",
   "metadata": {},
   "outputs": [],
   "source": [
    "X_train.head()"
   ]
  },
  {
   "cell_type": "code",
   "execution_count": null,
   "id": "bfd5d5d3",
   "metadata": {},
   "outputs": [],
   "source": [
    "numeric_transformer = StandardScaler()"
   ]
  },
  {
   "cell_type": "code",
   "execution_count": null,
   "id": "c30b96f9",
   "metadata": {},
   "outputs": [],
   "source": [
    "oh_transformer = OneHotEncoder(drop='first')"
   ]
  },
  {
   "cell_type": "code",
   "execution_count": null,
   "id": "001fb65c",
   "metadata": {},
   "outputs": [],
   "source": [
    "preprocessor = ColumnTransformer([\n",
    "    ('OneHotEncoder',oh_transformer,oh_cols),\n",
    "    ('StandardScaler', numeric_transformer,num_features)\n",
    "], remainder='passthrough')"
   ]
  },
  {
   "cell_type": "code",
   "execution_count": null,
   "id": "418af03c",
   "metadata": {},
   "outputs": [],
   "source": [
    "preprocessor"
   ]
  },
  {
   "cell_type": "code",
   "execution_count": null,
   "id": "645ef1e4",
   "metadata": {},
   "outputs": [],
   "source": [
    "X_train.head()"
   ]
  },
  {
   "cell_type": "markdown",
   "id": "e11e1a1a",
   "metadata": {},
   "source": [
    "### Apply Transformation"
   ]
  },
  {
   "cell_type": "code",
   "execution_count": null,
   "id": "117e1fe9",
   "metadata": {},
   "outputs": [],
   "source": [
    "X_train = preprocessor.fit_transform(X_train)"
   ]
  },
  {
   "cell_type": "code",
   "execution_count": null,
   "id": "c1822132",
   "metadata": {},
   "outputs": [],
   "source": [
    "X_train"
   ]
  },
  {
   "cell_type": "code",
   "execution_count": null,
   "id": "dee7d157",
   "metadata": {},
   "outputs": [],
   "source": [
    "X_test = preprocessor.transform(X_test)"
   ]
  },
  {
   "cell_type": "code",
   "execution_count": null,
   "id": "eec67d31",
   "metadata": {},
   "outputs": [],
   "source": [
    "X_test"
   ]
  },
  {
   "cell_type": "code",
   "execution_count": null,
   "id": "70e2052f",
   "metadata": {},
   "outputs": [],
   "source": [
    "X_train"
   ]
  },
  {
   "cell_type": "markdown",
   "id": "a10643d4",
   "metadata": {},
   "source": [
    "---"
   ]
  },
  {
   "cell_type": "markdown",
   "id": "6bb45442",
   "metadata": {},
   "source": [
    "# Model Training"
   ]
  },
  {
   "cell_type": "code",
   "execution_count": null,
   "id": "10299f4d",
   "metadata": {},
   "outputs": [],
   "source": [
    "from sklearn.linear_model import LinearRegression, Ridge, Lasso\n",
    "from sklearn.neighbors import KNeighborsRegressor\n",
    "from sklearn.tree import DecisionTreeRegressor\n",
    "from sklearn.ensemble import RandomForestRegressor, AdaBoostRegressor, GradientBoostingRegressor\n",
    "from xgboost import XGBRegressor"
   ]
  },
  {
   "cell_type": "code",
   "execution_count": null,
   "id": "3e553d0a",
   "metadata": {},
   "outputs": [],
   "source": [
    "from sklearn.metrics import r2_score, mean_absolute_error, mean_squared_error"
   ]
  },
  {
   "cell_type": "code",
   "execution_count": null,
   "id": "75f5b99e",
   "metadata": {},
   "outputs": [],
   "source": [
    "def eval_model(y_true, y_predicted):\n",
    "    mae = mean_absolute_error(y_true, y_predicted)\n",
    "    mse = mean_squared_error(y_true, y_predicted)\n",
    "    rmse = np.sqrt(mse)\n",
    "    r2 = r2_score(y_true, y_predicted)\n",
    "    adj_r2 = 1 - (1 - r2) * (len(y_true) - 1) / (len(y_true) - X_test.shape[1] -1)\n",
    "    return mae, mse, rmse, r2, adj_r2"
   ]
  },
  {
   "cell_type": "code",
   "execution_count": null,
   "id": "95591166",
   "metadata": {},
   "outputs": [],
   "source": [
    "models = {\n",
    "    'Linear Regression': LinearRegression(),\n",
    "    'Lasso': Lasso(),\n",
    "    'Ridge': Ridge(),\n",
    "    'KNN Regressor': KNeighborsRegressor(),\n",
    "    'Decision Tree Regressor': DecisionTreeRegressor(),\n",
    "    'Random Forest Regressor': RandomForestRegressor(),\n",
    "    'AdaBoost Regressor': AdaBoostRegressor(),\n",
    "    'GradientBoostingRegressor': GradientBoostingRegressor(),\n",
    "    'XGBoost Regressor': XGBRegressor()\n",
    "}"
   ]
  },
  {
   "cell_type": "code",
   "execution_count": null,
   "id": "ca2c36ed",
   "metadata": {},
   "outputs": [],
   "source": [
    "for i in range(len(list(models))):\n",
    "\n",
    "    model = list(models.values())[i]\n",
    "    model.fit(X_train,y_train)\n",
    "\n",
    "\n",
    "    y_train_pred = model.predict(X_train)\n",
    "    y_test_pred = model.predict(X_test)\n",
    "\n",
    "\n",
    "    model_train_mae, model_train_mse, model_train_rmse, model_train_r2, model_train_adjr2 = eval_model(y_train, y_train_pred)\n",
    "    model_test_mae, model_test_mse, model_test_rmse, model_test_r2, model_test_adjr2 = eval_model(y_test, y_test_pred)\n",
    "\n",
    "\n",
    "    print(list(models.keys())[i])\n",
    "    print('\\n')\n",
    "\n",
    "    print('Model Performance: Train Set')\n",
    "    print('- RMSE: {:.4f}'.format(model_train_rmse))\n",
    "    print('- MSE: {:.4f}'.format(model_train_mse))\n",
    "    print('- MAE: {:.4f}'.format(model_train_mae))\n",
    "    print('- R2: {:.4f}'.format(model_train_r2))\n",
    "    print('- ADJ_R2: {:.4f}'.format(model_train_adjr2))\n",
    "\n",
    "    print('-'*35)\n",
    "\n",
    "    print('Model Performance: Test Set')\n",
    "    print('- RMSE: {:.4f}'.format(model_test_rmse))\n",
    "    print('- MSE: {:.4f}'.format(model_test_mse))\n",
    "    print('- MAE: {:.4f}'.format(model_test_mae))\n",
    "    print('- R2: {:.4f}'.format(model_test_r2))\n",
    "    print('- ADJ_R2: {:.4f}'.format(model_test_adjr2))\n",
    "\n",
    "    print('='*35)\n",
    "    print('\\n')"
   ]
  },
  {
   "cell_type": "markdown",
   "id": "982a4293",
   "metadata": {},
   "source": [
    "---"
   ]
  },
  {
   "cell_type": "markdown",
   "id": "bc9d9876",
   "metadata": {},
   "source": [
    "# Hyperparameter Tuning"
   ]
  },
  {
   "cell_type": "code",
   "execution_count": null,
   "id": "c050fb3f",
   "metadata": {},
   "outputs": [],
   "source": [
    "adb_params = {\n",
    "    'n_estimators':[50,60,70,80],\n",
    "    'loss':['linear','square','exponential']\n",
    "}"
   ]
  },
  {
   "cell_type": "code",
   "execution_count": null,
   "id": "75078f3b",
   "metadata": {},
   "outputs": [],
   "source": [
    "gdb_params = {\n",
    "    'loss':['squared_error','huber','absolute_error'],\n",
    "    'criterion':['friedman_mse','squared_error','mse'],\n",
    "    'min_samples_split':[2,8,15,20],\n",
    "    'n_estimators':[100,200,500,1000],\n",
    "    'max_depth':[None, range(5,16)],\n",
    "    'learning_rate': [0.1,0.01,0.001,0.2,0.3]\n",
    "}"
   ]
  },
  {
   "cell_type": "code",
   "execution_count": null,
   "id": "bc4d1706",
   "metadata": {},
   "outputs": [],
   "source": [
    "knn_params = {\n",
    "    'n_neighbors':[2,3,10,20,30,40,50] \n",
    "}"
   ]
  },
  {
   "cell_type": "code",
   "execution_count": null,
   "id": "584c7be3",
   "metadata": {},
   "outputs": [],
   "source": [
    "rf_params = {\n",
    "    'max_depth':[None, list(range(5,11))],\n",
    "    'max_features': [None, list(range(5,10))],\n",
    "    'min_samples_split': [2,8,15,20],\n",
    "    'n_estimators': [100,200,500,1000]\n",
    "}"
   ]
  },
  {
   "cell_type": "code",
   "execution_count": null,
   "id": "8cd1786b",
   "metadata": {},
   "outputs": [],
   "source": [
    "xgb_params = {\n",
    "    'learning_rate':[0.1,0.01],\n",
    "    'max_depth':[5,8,12,20,30],\n",
    "    'n_estimators':[100,200,300],\n",
    "    'colsample_bytree':[0.5,0.8,1,0.3,0.4]\n",
    "}"
   ]
  },
  {
   "cell_type": "code",
   "execution_count": null,
   "id": "7021209e",
   "metadata": {},
   "outputs": [],
   "source": [
    "rscv_models = [\n",
    "    ('KNN Regressor', KNeighborsRegressor(), knn_params),\n",
    "    ('Random Forest Regressor', RandomForestRegressor(), rf_params),\n",
    "    ('Adaboost Regressor', AdaBoostRegressor(), adb_params),\n",
    "    ('GradientBoostingRegressor', GradientBoostingRegressor(), gdb_params),\n",
    "    ('XGB Regressor',XGBRegressor(), xgb_params)\n",
    "]"
   ]
  },
  {
   "cell_type": "code",
   "execution_count": null,
   "id": "84dc3056",
   "metadata": {},
   "outputs": [],
   "source": [
    "from sklearn.model_selection import RandomizedSearchCV"
   ]
  },
  {
   "cell_type": "code",
   "execution_count": null,
   "id": "6555b148",
   "metadata": {},
   "outputs": [],
   "source": [
    "model_param = {}\n",
    "\n",
    "for name, model, params in rscv_models:\n",
    "\n",
    "    rscv = RandomizedSearchCV(\n",
    "        estimator=model,\n",
    "        param_distributions=params,\n",
    "        n_iter=100,\n",
    "        cv=3,\n",
    "        verbose=2,\n",
    "        n_jobs=-1\n",
    "    )\n",
    "\n",
    "    rscv.fit(X_train,y_train)\n",
    "\n",
    "    model_param[name] = rscv.best_params_"
   ]
  },
  {
   "cell_type": "code",
   "execution_count": null,
   "id": "72a19e85",
   "metadata": {},
   "outputs": [],
   "source": [
    "for model_name in model_param:\n",
    "    print(f'------------------------ Best Params for {model_name} ------------------------------')\n",
    "    print(model_param[model_name])\n",
    "    print('='*40)\n",
    "    print('\\n')"
   ]
  },
  {
   "cell_type": "markdown",
   "id": "a02ac3d5",
   "metadata": {},
   "source": [
    "## Training the Best Models with the Best Hyperparameters"
   ]
  },
  {
   "cell_type": "code",
   "execution_count": null,
   "id": "240295cd",
   "metadata": {},
   "outputs": [],
   "source": [
    "models = {\n",
    "    'Random Forest Regressor': RandomForestRegressor(\n",
    "        n_estimators=200,\n",
    "        min_samples_split=2,\n",
    "        max_features=None,\n",
    "        max_depth=None\n",
    "    ),\n",
    "    'KNN Regressor': KNeighborsRegressor(\n",
    "        n_neighbors=10,\n",
    "        n_jobs=-1\n",
    "    ),\n",
    "    'AdaBoostRegressor': AdaBoostRegressor(\n",
    "        n_estimators=50,\n",
    "        loss='linear'\n",
    "    ),\n",
    "    'GradientBoostingRegressor': GradientBoostingRegressor(\n",
    "        n_estimators=100, \n",
    "        min_samples_split=2, \n",
    "        max_depth=None, \n",
    "        loss='absolute_error', \n",
    "        learning_rate=0.3, \n",
    "        criterion='squared_error'\n",
    "    ),\n",
    "    'XGB Regressor': XGBRegressor(\n",
    "        n_estimators=300, \n",
    "        max_depth=5, \n",
    "        learning_rate=0.1, \n",
    "        colsample_bytree=0.4\n",
    "    )\n",
    "}"
   ]
  },
  {
   "cell_type": "code",
   "execution_count": null,
   "id": "6bae2ebe",
   "metadata": {},
   "outputs": [],
   "source": [
    "for i in range(len(list(models))):\n",
    "\n",
    "    model = list(models.values())[i]\n",
    "    model.fit(X_train,y_train)\n",
    "\n",
    "\n",
    "    y_train_pred = model.predict(X_train)\n",
    "    y_test_pred = model.predict(X_test)\n",
    "\n",
    "\n",
    "    model_train_mae, model_train_mse, model_train_rmse, model_train_r2, model_train_adjr2 = eval_model(y_train, y_train_pred)\n",
    "    model_test_mae, model_test_mse, model_test_rmse, model_test_r2, model_test_adjr2 = eval_model(y_test, y_test_pred)\n",
    "\n",
    "\n",
    "    print(list(models.keys())[i])\n",
    "\n",
    "    print('Model Performance: Train Set')\n",
    "    print('- RMSE: {:.4f}'.format(model_train_rmse))\n",
    "    print('- MSE: {:.4f}'.format(model_train_mse))\n",
    "    print('- MAE: {:.4f}'.format(model_train_mae))\n",
    "    print('- R2: {:.4f}'.format(model_train_r2))\n",
    "    print('- ADJ_R2: {:.4f}'.format(model_train_adjr2))\n",
    "\n",
    "    print('-'*35)\n",
    "\n",
    "    print('Model Performance: Test Set')\n",
    "    print('- RMSE: {:.4f}'.format(model_test_rmse))\n",
    "    print('- MSE: {:.4f}'.format(model_test_mse))\n",
    "    print('- MAE: {:.4f}'.format(model_test_mae))\n",
    "    print('- R2: {:.4f}'.format(model_test_r2))\n",
    "    print('- ADJ_R2: {:.4f}'.format(model_test_adjr2))\n",
    "\n",
    "    print('='*35)\n",
    "    print('\\n')"
   ]
  },
  {
   "cell_type": "markdown",
   "id": "d91d9d7c",
   "metadata": {},
   "source": [
    "---"
   ]
  },
  {
   "cell_type": "code",
   "execution_count": null,
   "id": "5e414952",
   "metadata": {},
   "outputs": [],
   "source": [
    "end_time = time.time()\n",
    "elapsed_seconds = end_time - start_time\n",
    "elapsed_minutes = elapsed_seconds / 60\n",
    "\n",
    "print(f\"Total notebook execution time: {elapsed_minutes:.2f} minutes\")"
   ]
  }
 ],
 "metadata": {
  "kernelspec": {
   "display_name": "cardekho-price-prediction",
   "language": "python",
   "name": "python3"
  },
  "language_info": {
   "codemirror_mode": {
    "name": "ipython",
    "version": 3
   },
   "file_extension": ".py",
   "mimetype": "text/x-python",
   "name": "python",
   "nbconvert_exporter": "python",
   "pygments_lexer": "ipython3",
   "version": "3.13.7"
  }
 },
 "nbformat": 4,
 "nbformat_minor": 5
}
